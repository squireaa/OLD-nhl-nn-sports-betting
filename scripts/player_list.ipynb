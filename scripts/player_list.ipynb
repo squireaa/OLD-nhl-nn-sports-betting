{
 "cells": [
  {
   "attachments": {},
   "cell_type": "markdown",
   "metadata": {},
   "source": [
    "# Get the player associated with each game"
   ]
  },
  {
   "cell_type": "code",
   "execution_count": 2,
   "metadata": {},
   "outputs": [],
   "source": [
    "import pandas as pd\n",
    "import os\n",
    "import sys"
   ]
  },
  {
   "cell_type": "code",
   "execution_count": 3,
   "metadata": {},
   "outputs": [],
   "source": [
    "# creates dictionary for the ABC code given the team_id\n",
    "# {int: str} ex. {4: \"TOR\", 5: \"WPG\", ...}\n",
    "teams_df = pd.read_csv(\"C:/Users/Owner/Desktop/cs stuff/Open Source/nhl-nn-sports-betting/data/team_info.csv\")\n",
    "team_dict = dict()\n",
    "for index, row in teams_df.iterrows():\n",
    "    team_dict[int(row['team_id'])] = str(row['abbreviation'])"
   ]
  },
  {
   "cell_type": "code",
   "execution_count": 4,
   "metadata": {},
   "outputs": [],
   "source": [
    "# create a dictionary with both my_ids given a single game_id from the csv\n",
    "# {str: list(str)} ex. {\"1234567-5\": [\"TOR-2021-01-01\", \"WPG-2022-01-03\"], ...}\n",
    "from datetime import datetime\n",
    "\n",
    "\n",
    "def convert_datetime(datetime_str):\n",
    "    datetime_obj = datetime.strptime(datetime_str, \"%Y-%m-%dT%H:%M:%SZ\")\n",
    "    date_str = datetime_obj.strftime(\"%Y-%m-%d\")\n",
    "    return date_str\n",
    "\n",
    "\n",
    "game_df = pd.read_csv(\"C:/Users/Owner/Desktop/cs stuff/Open Source/nhl-nn-sports-betting/data/game.csv\")\n",
    "game_id_dict = dict()\n",
    "for index, row in game_df.iterrows():\n",
    "    try:\n",
    "        date = str(convert_datetime(row['date_time_GMT']))\n",
    "        home = str(team_dict[row['home_team_id']])\n",
    "        away = str(team_dict[row['away_team_id']])\n",
    "        their_id = int(row['game_id'])\n",
    "        game_id_dict[their_id] = [f\"{home}-{date}\", f\"{away}-{date}\"]\n",
    "    except:\n",
    "        pass"
   ]
  },
  {
   "cell_type": "code",
   "execution_count": 5,
   "metadata": {},
   "outputs": [],
   "source": [
    "# creates a dictionary to match the given game_id with my_ids\n",
    "# {str: str} ex. {\"1234567-5\": \"TOR-2021-01-01\", \"1234568-20\": \"WPG-2022-01-03\", ...}\n",
    "df = pd.read_csv(\"C:/Users/Owner/Desktop/cs stuff/Open Source/nhl-nn-sports-betting/data/game_skater_stats.csv\")\n",
    "my_id_dict = dict()\n",
    "for index, row in df.iterrows():\n",
    "    try:\n",
    "        game_id = int(row['game_id'])\n",
    "        team_id = int(row['team_id'])\n",
    "        abrv = str(team_dict[row['team_id']])\n",
    "        team1 = game_id_dict[row['game_id']][0]\n",
    "        team2 = game_id_dict[row['game_id']][1]\n",
    "        if team1[:3] == abrv:\n",
    "            my_id_dict[f\"{game_id}-{team_id}\"] = team1\n",
    "        else:\n",
    "            my_id_dict[f\"{game_id}-{team_id}\"] = team2\n",
    "    except:\n",
    "        pass"
   ]
  },
  {
   "cell_type": "code",
   "execution_count": 9,
   "metadata": {},
   "outputs": [],
   "source": [
    "from ordered_set import OrderedSet\n",
    "\n",
    "player_set = OrderedSet()\n",
    "for index, row in df.iterrows():\n",
    "    if row['player_id'] in player_set:\n",
    "        pass\n",
    "    if int(row['timeOnIce']) > 750 and row['goals'] > 1:\n",
    "        player_set.add(int(row['player_id']))"
   ]
  },
  {
   "cell_type": "code",
   "execution_count": 10,
   "metadata": {},
   "outputs": [],
   "source": [
    "# create an empty list for each key in the previous dict\n",
    "player_dict = dict()\n",
    "for key in my_id_dict:\n",
    "    player_dict[my_id_dict[key]] = []"
   ]
  },
  {
   "cell_type": "code",
   "execution_count": 11,
   "metadata": {},
   "outputs": [],
   "source": [
    "# create dictionary that gives a list of player_ids for every player in a given game\n",
    "# {str: list(int)} ex. {PHI-2016-10-19: [8468513, 8476906, ..., 8474668], ...}\n",
    "for index, row in df.iterrows():\n",
    "    try:\n",
    "        game_id = int(row['game_id'])\n",
    "        team_id = int(row['team_id'])\n",
    "        player_id = int(row['player_id'])\n",
    "        my_id =  my_id_dict[f\"{game_id}-{team_id}\"]\n",
    "        \n",
    "        if player_id in player_set:\n",
    "            player_dict[my_id].append(player_id)\n",
    "    except:\n",
    "        pass"
   ]
  },
  {
   "cell_type": "code",
   "execution_count": 12,
   "metadata": {},
   "outputs": [
    {
     "name": "stdout",
     "output_type": "stream",
     "text": [
      "Stored 'player_dict' (dict)\n"
     ]
    }
   ],
   "source": [
    "%store player_dict"
   ]
  }
 ],
 "metadata": {
  "kernelspec": {
   "display_name": "Python 3",
   "language": "python",
   "name": "python3"
  },
  "language_info": {
   "codemirror_mode": {
    "name": "ipython",
    "version": 3
   },
   "file_extension": ".py",
   "mimetype": "text/x-python",
   "name": "python",
   "nbconvert_exporter": "python",
   "pygments_lexer": "ipython3",
   "version": "3.8.5"
  },
  "orig_nbformat": 4
 },
 "nbformat": 4,
 "nbformat_minor": 2
}
